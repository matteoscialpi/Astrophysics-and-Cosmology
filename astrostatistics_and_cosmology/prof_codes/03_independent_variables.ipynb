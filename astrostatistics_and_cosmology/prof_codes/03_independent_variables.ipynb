{
 "cells": [
  {
   "cell_type": "code",
   "execution_count": 6,
   "id": "6ab70a5e",
   "metadata": {},
   "outputs": [
    {
     "name": "stderr",
     "output_type": "stream",
     "text": [
      "\u001b[32m\u001b[1m   Resolving\u001b[22m\u001b[39m package versions...\n",
      "\u001b[32m\u001b[1m   Installed\u001b[22m\u001b[39m Rmath ─────────────────── v0.7.0\n",
      "\u001b[32m\u001b[1m   Installed\u001b[22m\u001b[39m Calculus ──────────────── v0.5.1\n",
      "\u001b[32m\u001b[1m   Installed\u001b[22m\u001b[39m Rmath_jll ─────────────── v0.3.0+0\n",
      "\u001b[32m\u001b[1m   Installed\u001b[22m\u001b[39m HypergeometricFunctions ─ v0.3.11\n",
      "\u001b[32m\u001b[1m   Installed\u001b[22m\u001b[39m PDMats ────────────────── v0.11.16\n",
      "\u001b[32m\u001b[1m   Installed\u001b[22m\u001b[39m DualNumbers ───────────── v0.6.8\n",
      "\u001b[32m\u001b[1m   Installed\u001b[22m\u001b[39m StatsFuns ─────────────── v1.0.1\n",
      "\u001b[32m\u001b[1m   Installed\u001b[22m\u001b[39m FillArrays ────────────── v0.13.5\n",
      "\u001b[32m\u001b[1m   Installed\u001b[22m\u001b[39m QuadGK ────────────────── v2.5.0\n",
      "\u001b[32m\u001b[1m   Installed\u001b[22m\u001b[39m DensityInterface ──────── v0.4.0\n",
      "\u001b[32m\u001b[1m   Installed\u001b[22m\u001b[39m Distributions ─────────── v0.25.76\n",
      "\u001b[32m\u001b[1m    Updating\u001b[22m\u001b[39m `~/.julia/environments/v1.8/Project.toml`\n",
      " \u001b[90m [31c24e10] \u001b[39m\u001b[92m+ Distributions v0.25.76\u001b[39m\n",
      "\u001b[32m\u001b[1m    Updating\u001b[22m\u001b[39m `~/.julia/environments/v1.8/Manifest.toml`\n",
      " \u001b[90m [49dc2e85] \u001b[39m\u001b[92m+ Calculus v0.5.1\u001b[39m\n",
      " \u001b[90m [b429d917] \u001b[39m\u001b[92m+ DensityInterface v0.4.0\u001b[39m\n",
      " \u001b[90m [31c24e10] \u001b[39m\u001b[92m+ Distributions v0.25.76\u001b[39m\n",
      " \u001b[90m [fa6b7ba4] \u001b[39m\u001b[92m+ DualNumbers v0.6.8\u001b[39m\n",
      " \u001b[90m [1a297f60] \u001b[39m\u001b[92m+ FillArrays v0.13.5\u001b[39m\n",
      " \u001b[90m [34004b35] \u001b[39m\u001b[92m+ HypergeometricFunctions v0.3.11\u001b[39m\n",
      " \u001b[90m [90014a1f] \u001b[39m\u001b[92m+ PDMats v0.11.16\u001b[39m\n",
      " \u001b[90m [1fd47b50] \u001b[39m\u001b[92m+ QuadGK v2.5.0\u001b[39m\n",
      " \u001b[90m [79098fc4] \u001b[39m\u001b[92m+ Rmath v0.7.0\u001b[39m\n",
      " \u001b[90m [4c63d2b9] \u001b[39m\u001b[92m+ StatsFuns v1.0.1\u001b[39m\n",
      " \u001b[90m [f50d1b31] \u001b[39m\u001b[92m+ Rmath_jll v0.3.0+0\u001b[39m\n",
      " \u001b[90m [4607b0f0] \u001b[39m\u001b[92m+ SuiteSparse\u001b[39m\n",
      "\u001b[32m\u001b[1mPrecompiling\u001b[22m\u001b[39m project...\n",
      "\u001b[32m  ✓ \u001b[39m\u001b[90mRmath_jll\u001b[39m\n",
      "\u001b[32m  ✓ \u001b[39m\u001b[90mDensityInterface\u001b[39m\n",
      "\u001b[32m  ✓ \u001b[39m\u001b[90mCalculus\u001b[39m\n",
      "\u001b[32m  ✓ \u001b[39m\u001b[90mPDMats\u001b[39m\n",
      "\u001b[32m  ✓ \u001b[39m\u001b[90mFillArrays\u001b[39m\n",
      "\u001b[32m  ✓ \u001b[39m\u001b[90mRmath\u001b[39m\n",
      "\u001b[32m  ✓ \u001b[39m\u001b[90mDualNumbers\u001b[39m\n",
      "\u001b[32m  ✓ \u001b[39m\u001b[90mQuadGK\u001b[39m\n",
      "\u001b[32m  ✓ \u001b[39m\u001b[90mHypergeometricFunctions\u001b[39m\n",
      "\u001b[32m  ✓ \u001b[39m\u001b[90mStatsFuns\u001b[39m\n",
      "\u001b[32m  ✓ \u001b[39mDistributions\n",
      "  11 dependencies successfully precompiled in 21 seconds. 166 already precompiled.\n"
     ]
    }
   ],
   "source": [
    "import Pkg\n",
    "Pkg.add(\"Distributions\")"
   ]
  },
  {
   "cell_type": "code",
   "execution_count": 7,
   "id": "d5750ebd",
   "metadata": {},
   "outputs": [
    {
     "name": "stdout",
     "output_type": "stream",
     "text": [
      "Joint Probability P(X and Y)\n"
     ]
    },
    {
     "data": {
      "text/plain": [
       "6×8 Matrix{Float64}:\n",
       " 0.00609373  0.013588   0.0149467  …  0.0136386  0.0116519   0.00499506\n",
       " 0.0136612   0.0304093  0.0334182     0.0304277  0.0260257   0.0110837\n",
       " 0.0143433   0.0320826  0.0351705     0.0321327  0.0275363   0.0117215\n",
       " 0.0136243   0.0303857  0.0332663     0.0304913  0.0259679   0.0111658\n",
       " 0.011536    0.0257617  0.0282854     0.025805   0.0219678   0.00942799\n",
       " 0.00476521  0.0106096  0.011631   …  0.0105443  0.00908187  0.00387307"
      ]
     },
     "metadata": {},
     "output_type": "display_data"
    },
    {
     "name": "stdout",
     "output_type": "stream",
     "text": [
      "\n",
      "Conditional Probability - P(x|y):\n"
     ]
    },
    {
     "data": {
      "text/plain": [
       "6×8 Matrix{Float64}:\n",
       " 0.0951791  0.0951293  0.0953733  …  0.0953482  0.0953264  0.0955676\n",
       " 0.213377   0.212895   0.213237      0.212722   0.212921   0.212059\n",
       " 0.224031   0.22461    0.224419      0.224642   0.22528    0.224262\n",
       " 0.212801   0.21273    0.212269      0.213167   0.212449   0.213629\n",
       " 0.180183   0.180357   0.180486      0.180404   0.179723   0.180381\n",
       " 0.0744287  0.074278   0.0742161  …  0.0737161  0.0743006  0.0741014"
      ]
     },
     "metadata": {},
     "output_type": "display_data"
    },
    {
     "name": "stdout",
     "output_type": "stream",
     "text": [
      "\n",
      "Conditional Probability - P(y|x):\n"
     ]
    },
    {
     "data": {
      "text/plain": [
       "6×8 Matrix{Float64}:\n",
       " 0.0639726  0.142648  0.156913  0.161768  …  0.143179  0.122323  0.0524386\n",
       " 0.0641961  0.142898  0.157037  0.16144      0.142984  0.122299  0.0520841\n",
       " 0.0638231  0.142757  0.156497  0.162268     0.14298   0.122528  0.0521571\n",
       " 0.0640351  0.142814  0.156354  0.161873     0.143311  0.122051  0.0524799\n",
       " 0.0639938  0.142908  0.156909  0.161869     0.143149  0.121863  0.0523002\n",
       " 0.0642433  0.143037  0.156806  0.161703  …  0.142156  0.122439  0.0522158"
      ]
     },
     "metadata": {},
     "output_type": "display_data"
    },
    {
     "name": "stdout",
     "output_type": "stream",
     "text": [
      "\n",
      "Correlation(x,y) = -0.00017419050616785767\n"
     ]
    }
   ],
   "source": [
    "import Random: seed!, rand\n",
    "import StatsBase: Histogram, fit, normalize, cor\n",
    "#import LinearAlgebra: normalize\n",
    "import DataStructures: counter, Accumulator\n",
    "import Distributions: Binomial, Normal, truncated\n",
    "\n",
    "N = 11111589 #number of throw of a die\n",
    "#N = 50 #number of throw of a die\n",
    "xdim = 6\n",
    "ydim = 8\n",
    "\n",
    "uniform_x = false\n",
    "uniform_y = false\n",
    "#See https://stats.stackexchange.com/questions/546544/are-discrete-random-variables-with-same-domain-and-uniform-probability-always\n",
    "dependent_y = false\n",
    "\n",
    "#seed!(378556)\n",
    "if uniform_x == true\n",
    "  x = rand(1:xdim,N) #uniform distribution\n",
    "else\n",
    "  x = round.(Int,rand(truncated(Normal(3,3),1,xdim),N)) #non-uniform distribution\n",
    "end #if uniform_x == true\n",
    "\n",
    "#DEBUG:\n",
    "#println(\"x = \", x)\n",
    "px = normalize(fit(Histogram, x, nbins=xdim), mode=:probability)\n",
    "\n",
    "if uniform_x == true\n",
    "\n",
    "  thpx = 1.0/xdim\n",
    "  println(\"Theoretical probability: Th_P(x) = \", thpx)\n",
    "  println(\"Marginal probability P(x):\")\n",
    "  display(px.weights)\n",
    "  abs_diff_x = px.weights .- thpx\n",
    "  println(\"Absolute difference P(x) - Th_P(x):\")\n",
    "  stddev_x = sqrt.( px.weights.*( (1.0 .- px.weights)./N ) )\n",
    "  println(\"P(x) abs_err_x, standard_dev_x\")\n",
    "  display(hcat(px.weights, abs_diff_x, stddev_x))\n",
    "  println()\n",
    "  println(\"Relative errors P(x) vs Th_P(x)\")\n",
    "  display(abs_diff_x ./ thpx)\n",
    "  println()\n",
    "\n",
    "end #if uniform_x == true\n",
    "\n",
    "#seed!(9385)\n",
    "if uniform_y == true\n",
    "\n",
    "  #if (dependent_y == true) && (uniform_x == true)\n",
    "  if dependent_y == true\n",
    "    coin = rand(Binomial(1, 0.5), N)\n",
    "    #DEBUG\n",
    "    #println(\"Coin:\")\n",
    "    #display(coin)\n",
    "    y = (coin .* rand(1:ydim, N)) .+ ((1 .- coin) .* x)\n",
    "  else\n",
    "    y = rand(1:ydim, N) #uniform distribution\n",
    "  end #if dependent_y == true\n",
    "\n",
    "else\n",
    "  y = round.(Int,rand(truncated(Normal(4,4),1,ydim),N)) #non-uniform distribution\n",
    "end #if uniform_y == true\n",
    "\n",
    "#DEBUG:\n",
    "#println(\"y:\")\n",
    "#display(y)\n",
    "\n",
    "py = normalize(fit(Histogram, y, 0:ydim, closed=:right), mode=:probability)\n",
    "\n",
    "\n",
    "if uniform_y == true\n",
    "\n",
    "  thpy = 1.0/ydim\n",
    "  println(\"Theoretical probability: Th_P(y) = \", thpy)\n",
    "  println(\"Marginal probability P(y):\")\n",
    "  display(py.weights)\n",
    "  abs_diff_y = py.weights .- thpy\n",
    "  println(\"Absolute difference P(y) - Th_P(y):\")\n",
    "  stddev_y = sqrt.( py.weights.*( (1.0 .- py.weights)./N ) )\n",
    "  println(\"P(y) abs_err_y, standard_dev_y\")\n",
    "  display(hcat(py.weights, abs_diff_y, stddev_y))\n",
    "  println()\n",
    "  println(\"Relative errors P(y) vs Th_P(y)\")\n",
    "  display(abs_diff_y ./ thpy)\n",
    "  println()\n",
    "\n",
    "end #if uniform_y == true\n",
    "\n",
    "\n",
    "# Create an ordered pair variable\n",
    "orderedpairs = zip(x,y)\n",
    "\n",
    "#DEBUG\n",
    "#println(\"orderedpairs = \", orderedpairs)\n",
    "#println(\"typeof(orderedpairs) = \", typeof(orderedpairs))\n",
    "\n",
    "pxyapp = counter(orderedpairs) #count all the frequencies of the ordered pairs\n",
    "#DEBUG\n",
    "#println(\"pxyapp = \", pxyapp)\n",
    "#println(\"pxyapp[(1,2)] = \", pxyapp[(1,2)])\n",
    "\n",
    "#Joint-probability from ordered pairs relative frequencies\n",
    "pxy = zeros(xdim,ydim)\n",
    "for idx in pxyapp\n",
    "  #CartesianIndex -> transform the ordered pair in a matrix indeces\n",
    "  pxy[CartesianIndex(idx.first)] = idx.second/N\n",
    "end\n",
    "\n",
    "#DEBUG\n",
    "println(\"Joint Probability P(X and Y)\")\n",
    "display(pxy)\n",
    "println()\n",
    "\n",
    "#Conditional probability from joint probability\n",
    "px_given_y = pxy ./ py.weights' #' is the adjoint: since the array is Real, it is simply the transpose\n",
    "py_given_x = pxy ./ px.weights\n",
    "\n",
    "println(\"Conditional Probability - P(x|y):\")\n",
    "display(px_given_y)\n",
    "println()\n",
    "println(\"Conditional Probability - P(y|x):\")\n",
    "display(py_given_x)\n",
    "println()\n",
    "\n",
    "#DEBUG\n",
    "println(\"Correlation(x,y) = \",cor(x,y))\n"
   ]
  },
  {
   "cell_type": "code",
   "execution_count": null,
   "id": "938a9d72",
   "metadata": {},
   "outputs": [],
   "source": []
  }
 ],
 "metadata": {
  "kernelspec": {
   "display_name": "Julia 1.8.2",
   "language": "julia",
   "name": "julia-1.8"
  },
  "language_info": {
   "file_extension": ".jl",
   "mimetype": "application/julia",
   "name": "julia",
   "version": "1.8.2"
  }
 },
 "nbformat": 4,
 "nbformat_minor": 5
}

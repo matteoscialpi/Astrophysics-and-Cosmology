{
  "nbformat": 4,
  "nbformat_minor": 0,
  "metadata": {
    "colab": {
      "provenance": [],
      "collapsed_sections": []
    },
    "kernelspec": {
      "name": "python3",
      "display_name": "Python 3"
    },
    "language_info": {
      "name": "python"
    }
  },
  "cells": [
    {
      "cell_type": "markdown",
      "source": [
        "# ASSIGNMENT 1 - MONTY HALL\n",
        "\n",
        "Students: Caporali Ilaria, Scialpi Matteo"
      ],
      "metadata": {
        "id": "3zP6cNYb8yeL"
      }
    },
    {
      "cell_type": "markdown",
      "source": [
        "\n",
        "\n",
        "## QUESTION 1\n",
        "\n",
        "Let's sketch the events present in our problem:\n",
        "$$C_i = \"\\text{The car is under the door i}\"$$\n",
        "$$X_i = \"\\text{The player chooses the door i}\"$$\n",
        "$$H_i = \"\\text{The host open the door i}\"$$\n",
        "with $i = 1, 2, 3$. \\\n",
        "The probability for the car to be behind one of the three doors is given by (using a frequentist definition):\n",
        "\\begin{equation}\n",
        "\\mathcal{P}(C_1) =\\mathcal{P}(C_2) =\\mathcal{P}(C_3) = \\frac{1}{3}\\,.\n",
        "\\end{equation}\n",
        "The probability for the player to choose the first time one of the doors is given by\n",
        "\\begin{equation}\n",
        "\\mathcal{P}(X_1) = \\mathcal{P} (X_2) = \\mathcal{P}(X_3) = \\frac{1}{3}\n",
        "\\end{equation}\n",
        "As the exercise states, initially the player chooses the door labeled as 1. \\\n",
        "\n",
        "\n",
        "\n",
        "Now what we want to do is to evaluate the probability that the player has to win by choosing to switch door $P(C_2| H_3\\,and\\,X_1)$ after the host, that in this case knows where the car is, opens door 3.\n",
        "To evaluate it, we have to apply the product rule starting from $\\mathcal{P}(C_2\\,and\\,H_3|X_1)$, wich gives us\n",
        "\\begin{equation}\n",
        "\\mathcal{P}(C_2\\,and\\,H_3|X_1)=\\mathcal{P}(C_2|X_1)\\,\\mathcal{P}(H_3|C_2\\,and\\,X_1)=\\mathcal{P}(H_3|X_1)\\,\\mathcal(C_2|H_3\\,and\\,X_1)\\,.\n",
        "\\end{equation}\n",
        "This implies the following:\n",
        "\\begin{equation}\n",
        "\\mathcal{P}(C_2|H_3\\,and\\,X_1)=\\frac{\\mathcal{P}(C_2|X_1)\\,\\mathcal{P}(H_3|C_2\\,and\\,X_1)}{\\mathcal{P}(H_3|X_1)}\\,,\n",
        "\\end{equation}\n",
        "which means that the probability of the car to be behind the door n. 2 (= to win changing door), given that the player had chosen the door n. 1 and that the host opened the door n.3 with a goat behind, is equal to the probability of the car to be behind the door n. 2, given that the player had chosen the door n. 1, multiplied by the probability for the door n.3 to be open by the host, given that the car is surely behind the door n.2 and that the player had chosen the door n. 1, all divided for the probability for the door to be open by the host, given that the player had chosen the door n. 1.\\\n",
        "Let's analize one term at time:\n",
        "* $\\mathcal{P}(C_2|X_1)$ was already calculated and we found that\n",
        "\\begin{equation}\n",
        "\\mathcal{P}(C_2|X_1)=\\mathcal{P}(C_2)=\\frac{1}{3}\\,;\n",
        "\\end{equation}\n",
        "* $\\mathcal{P}(H_3|X_1)$ can be calculated via marginalization spanning the $C_i$ statements, which means to calculate (using the product rule in the second equality and the fact that the position of the car is independent on the player's choise)\n",
        "\\begin{equation}\n",
        "\\mathcal{P}(H_3|X_1)=\\sum_i\\mathcal{P}(C_i\\,and\\,H_3|X_1)=\\sum_i\\mathcal{P}(C_i|X_1)\\,\\mathcal{P}(H_3|C_i\\,and\\,X_1)=\\sum_i\\frac{1}{3}\\,\\mathcal{P}(H_3|C_i\\,and\\,X_1)\n",
        "\\end{equation}\n",
        "or, more explicitly,\n",
        "\\begin{equation}\n",
        "\\mathcal{P}(H_3|X_1)=\\frac{1}{3}\\,\\bigl[\\mathcal{P}(H_3|C_1\\,and\\,X_1)+\\mathcal{P}(H_3|C_2\\,and\\,X_1)+\\mathcal{P}(H_3|C_3\\,and\\,X_1)\\bigr]\\,.\n",
        "\\end{equation}\n",
        "In this particular question we suppose that the host knows where the car is, so when he has to choose which door to open after the contestant choice to pick door 1, he must exploit his information. If the car is behind the door 1, he has the same probability to open the door 2 as to open the door 3, since no car is behind those two doors. That implies $\\mathcal{P}(H_3|C_1,X_1)=1/2$. If instead the car is in one of the two doors left, the host is forced to open the one with the goat. This implies $\\mathcal{P}(H_3|C_2,X_1)=1$ and $\\mathcal{P}(H_3|C_3,X_1)=0$. As a conclusion,\n",
        "\\begin{equation}\n",
        "\\mathcal{P}(H_3|X_1)=\\frac{1}{3}\\Bigl[\\frac{1}{2}+1+0\\Bigr]=\\frac{1}{2}\\,.\n",
        "\\end{equation}\n",
        "Again here we can see that the result doesn't depend on the knowledge of the host because it holds anyway that\n",
        "\\begin{equation}\n",
        "\\mathcal{P}(H_3|C_2\\,and\\,X_1)+\\mathcal{P}(H_3|C_3\\,and\\,X_1)=1\\,.\n",
        "\\end{equation}\n",
        "* Having understood the assignment, we found in the previous point that\n",
        "\\begin{equation}\n",
        "\\mathcal{P}(H_3|C_2\\,and\\,X_1)=1\\,,\n",
        "\\end{equation}\n",
        "since the host must open the door 3, given that he knows that the car is behind the door 2 and that the player had chosen the door 1.\n",
        "\n",
        "This concludes that\n",
        "\\begin{equation}\n",
        "\\mathcal{P}(C_2|H_3\\,and\\,X_1)=\\frac{\\mathcal{P}(C_2|X_1)\\,\\mathcal{P}(H_3|C_2\\,and\\,X_1)}{\\mathcal{P}(H_3|X_1)}=\\frac{1/3\\cdot{1}}{1/2}=\\frac{2}{3}\\,.\n",
        "\\end{equation}\n",
        "For completness, the probability to win not changing the initial door is\n",
        "\\begin{equation}\n",
        "\\mathcal{P}(C_1|H_3,X_1)=\\frac{\\mathcal{P}(C_1|X_1)\\,\\mathcal{P}(H_3|C_1\\,and\\,X_1)}{\\mathcal{P}(H_3|X_1)}=\\frac{1/3\\cdot1/2}{1/2}=\\frac{1}{3},\n",
        "\\end{equation}\n",
        "exactly half of the probability to win changing the door. \n",
        "\n",
        "### Code\n",
        "\n",
        "Here below there is the simulation that illustrates this situation."
      ],
      "metadata": {
        "id": "TOsViIwJNRqB"
      }
    },
    {
      "cell_type": "code",
      "execution_count": null,
      "metadata": {
        "colab": {
          "base_uri": "https://localhost:8080/"
        },
        "id": "ZLwm_Bo0b_sL",
        "outputId": "5472271a-e3be-40ad-a5f6-dbf0c3a116a8"
      },
      "outputs": [
        {
          "output_type": "stream",
          "name": "stdout",
          "text": [
            "winning by switching: 66.702 % (trials=100000)\n"
          ]
        }
      ],
      "source": [
        "import random\n",
        "import matplotlib.pyplot as plt\n",
        "import numpy as np\n",
        "\n",
        "#the host knows behind which door is the prize \n",
        "#so i need to build a function to mimic the fact that\n",
        "#at first the host must open a door that has not the prize behind\n",
        "\n",
        "def open_not_prize(host, n_doors, player_pick):\n",
        "    i=1\n",
        "    while (i==host or i==player_pick):\n",
        "        i = (i+1)%(n_doors)\n",
        "        \n",
        "    return i \n",
        "\n",
        "#now i have to build a function that allow the player to change\n",
        "\n",
        "def switch_door(opened_door, n_doors, player_pick):\n",
        "    i=1\n",
        "    while (i==opened_door or i== player_pick):\n",
        "        i = (i+1)%(n_doors)\n",
        "        \n",
        "    return i \n",
        "\n",
        "#game simulation\n",
        "\n",
        "def monty_hall (switch, trials):\n",
        "    win_switch_counts = 0\n",
        "    win_no_switch_counts = 0\n",
        "    lose_switch_counts = 0\n",
        "    lose_no_switch_counts = 0\n",
        "    doors = [0,1,2]\n",
        "    n_doors = len(doors)\n",
        "    \n",
        "    for i in range(0, trials):\n",
        "        door_with_prize = random.randint(0, n_doors-1)\n",
        "        host = door_with_prize #because the host knows\n",
        "        player_pick = random.randint(0, n_doors -1)\n",
        "        original_player_pick = player_pick\n",
        "        opened_door = open_not_prize(host, n_doors, player_pick)\n",
        "        \n",
        "        if switch == True:\n",
        "            player_pick = switch_door(opened_door, n_doors, player_pick)\n",
        "        \n",
        "        if player_pick == host and switch == False: #the player wins if they don't switch\n",
        "            win_no_switch_counts +=1\n",
        "        \n",
        "        elif player_pick == host and switch == True: #the player wins if they switch\n",
        "            win_switch_counts +=1\n",
        "            \n",
        "        elif player_pick!= host and switch == False: #the player loses if they do not switch\n",
        "            lose_no_switch_counts+=1\n",
        "            \n",
        "        elif player_pick!= host and switch == True: #the player loses if they do not switch\n",
        "            lose_switch_counts+=1\n",
        "            \n",
        "        else:\n",
        "            print('boh')\n",
        "            \n",
        "    return win_switch_counts, win_no_switch_counts, lose_no_switch_counts, lose_switch_counts,trials\n",
        "\n",
        "#*****************************\n",
        "#LET'S PLAY A GAME, SHALL WE? >:)\n",
        "\n",
        "play = monty_hall(True, 100000)\n",
        "\n",
        "print('winning by switching:' , (play[0]/play[4])*100  , '%', '(trials=100000)')\n",
        "   \n",
        "        "
      ]
    },
    {
      "cell_type": "markdown",
      "source": [
        "Then, it's useful to visually see how much this simulation adjusts the win pecentage value to the theoretically predicted one by having a bigger number of trials\n"
      ],
      "metadata": {
        "id": "0Ra1Hccza2lm"
      }
    },
    {
      "cell_type": "code",
      "source": [
        "#statistics for the simulation\n",
        "trials = []\n",
        "N = 1000\n",
        "win_prob = []\n",
        "switch = True\n",
        "\n",
        "for i in range(1,N):\n",
        "    trials.append(i)\n",
        "    play = monty_hall(switch,i)\n",
        "    win_prob.append(play[0]/play[4])\n",
        "    \n",
        "plt.plot(trials, win_prob)\n",
        "plt.title('Monty Hall Problem', fontsize=20)\n",
        "plt.xlabel('Number of Tests',fontsize=18)\n",
        "plt.ylabel('Win Percentage',fontsize=18)\n",
        "plt.show()\n",
        "     "
      ],
      "metadata": {
        "colab": {
          "base_uri": "https://localhost:8080/",
          "height": 308
        },
        "id": "5XRyDwt2aTE_",
        "outputId": "35d36b45-b0da-4441-df6c-e19088794192"
      },
      "execution_count": null,
      "outputs": [
        {
          "output_type": "display_data",
          "data": {
            "text/plain": [
              "<Figure size 432x288 with 1 Axes>"
            ],
            "image/png": "[encoded data removed]"
          },
          "metadata": {
            "needs_background": "light"
          }
        }
      ]
    },
    {
      "cell_type": "markdown",
      "source": [
        "## QUESTION 2\n",
        "\n",
        "Now we want to discuss a variant same problem but considering that the host does not know behind which door the car is (known in literature as ignorant monty or monty fall).\n",
        "\n",
        "\n",
        "If the host doesn't know where the car is, things will change (and will be actually funny if he actually opens the door with the car). Remembering the equation\n",
        "\\begin{equation}\n",
        "\\mathcal{P}(C_2|H_3\\,and\\,X_1)=\\frac{\\mathcal{P}(C_2|X_1)\\,\\mathcal{P}(H_3|C_2\\,and\\,X_1)}{\\mathcal{P}(H_3|X_1)}\\,,\n",
        "\\end{equation}\n",
        "let's see again the calculations separately.\n",
        "* $\\mathcal{P}(C_2|X_1)$ is exactly the same.\n",
        "* $\\mathcal{P}(H_3|I_1)$ varyes only conceptually, but not in value, because every choise between the two doors left will be now perfectly random and so\n",
        "\\begin{equation}\n",
        "\\mathcal{P}(H_3|C_1\\,and\\,X_1)=\\mathcal{P}(H_3|C_2\\,and\\,X_1)=\\mathcal{P}(H_3|C_3\\,and\\,X_1)=\\frac{1}{2}\\,.\n",
        "\\end{equation}\n",
        "This implies that\n",
        "\\begin{equation}\n",
        "\\mathcal{P}(O_3|I_1)=\\frac{1}{3}\\Bigl[\\frac{1}{2}+\\frac{1}{2}+\\frac{1}{2}\\Bigr]=\\frac{1}{2}\\,.\n",
        "\\end{equation}\n",
        "* As we said in the previous point,\n",
        "\\begin{equation}\n",
        "\\mathcal{P}(H_3|C_2\\,and\\,X_1)=\\frac{1}{2}\\,.\n",
        "\\end{equation}\n",
        "\n",
        "So one has, for the probability to win changing the door,\n",
        "\\begin{equation}\n",
        "\\mathcal{P}(C_2|H_3\\,and\\,X_1)=\\frac{\\mathcal{P}(C_2|X_1)\\,\\mathcal{P}(H_3|C_2\\,and\\,X_1)}{\\mathcal{P}(H_3|I_1)}=\\frac{1/3\\cdot{1/2}}{1/2}=\\frac{1}{3}\\,.\n",
        "\\end{equation}\n",
        "For the probability to win not changing the door, this is perfectly equal to Q1:\n",
        "\\begin{equation}\n",
        "\\mathcal{P}(C_1|H_3\\,and\\,X_1)=\\frac{\\mathcal{P}(X_1|I_1)\\,\\mathcal{P}(H_3|C_1\\,and\\,X_1)}{\\mathcal{P}(H_3|X_1)}=\\frac{1/3\\cdot1/2}{1/2}=\\frac{1}{3}\\,.\n",
        "\\end{equation}\n",
        "Knowing that the host doesn't know where is the car allows the initial uniform distribution to mantain. The new information $H_3$ is, in this case, useless.\\\n",
        "The remaining third of the total probability goes in the probability of the car to be behind the door n. 3, or in other words in the probability that the host opens the door with the car behind.\n",
        "\n",
        "### Code\n",
        "Again, it's useful to visualize it with a simulation."
      ],
      "metadata": {
        "id": "YEt_Pe-ebH5M"
      }
    },
    {
      "cell_type": "code",
      "source": [
        "def monty_fall (switch, trials):\n",
        "    win_switch_counts = 0\n",
        "    win_no_switch_counts = 0\n",
        "    lose_switch_counts = 0\n",
        "    lose_no_switch_counts = 0\n",
        "    doors = [0,1,2]\n",
        "    n_doors = len(doors)\n",
        "    \n",
        "    for i in range(0, trials):\n",
        "        door_with_prize = random.randint(0, n_doors-1)\n",
        "        player_pick = random.randint(0, n_doors -1)\n",
        "        host = random.randint(0, n_doors-1)\n",
        "        \n",
        "        while host == player_pick :\n",
        "            host = random.randint(0, n_doors-1)\n",
        "            \n",
        "        \n",
        "        original_player_pick = player_pick\n",
        "        opened_door = open_not_prize(host, n_doors, player_pick)\n",
        "        \n",
        "        if switch == True:\n",
        "            player_pick = switch_door(opened_door, n_doors, player_pick)\n",
        "        \n",
        "        \n",
        "        if player_pick == door_with_prize and switch == True: #the player wins if they switch\n",
        "            win_switch_counts +=1\n",
        "            \n",
        "        elif player_pick!= door_with_prize and switch == True: #the player loses if they do not switch\n",
        "            lose_switch_counts+=1    \n",
        "            \n",
        "  \n",
        "    return win_switch_counts, lose_switch_counts, trials\n",
        "\n",
        "#*****************************\n",
        "#LET'S PLAY A GAME, SHALL WE? >:)\n",
        "\n",
        "play = monty_fall(True, 100000)\n",
        "\n",
        "print('winning by switching:' , (play[0]/play[2])*100 , '%', '(trials= 100000)')\n",
        "#print('losing by switching:' , play[1]/play[2] , '%')\n",
        "#print('winning by switching:' , play[1]/play[4] , '%')\n",
        "#print('losing by switching:' , play[2]/play[4] , '%')\n",
        "\n",
        "\n",
        "\n",
        "        \n",
        "        "
      ],
      "metadata": {
        "colab": {
          "base_uri": "https://localhost:8080/"
        },
        "id": "sxTIPEVdcU0j",
        "outputId": "90c532ef-9a04-45c5-e6c7-6c42836fa757"
      },
      "execution_count": null,
      "outputs": [
        {
          "output_type": "stream",
          "name": "stdout",
          "text": [
            "winning by switching: 33.51 % (trials= 100000)\n"
          ]
        }
      ]
    },
    {
      "cell_type": "code",
      "source": [
        "#statistics for the simulation\n",
        "trials = []\n",
        "N = 1000\n",
        "win_prob = []\n",
        "switch = True\n",
        "\n",
        "for i in range(1,N):\n",
        "    trials.append(i)\n",
        "    play = monty_fall(switch,i)\n",
        "    win_prob.append(play[0]/play[2])\n",
        "    \n",
        "plt.plot(trials, win_prob)\n",
        "plt.title('Monty Hall Problem', fontsize=20)\n",
        "plt.xlabel('Number of Tests',fontsize=18)\n",
        "plt.ylabel('Win Percentage',fontsize=18)\n",
        "plt.show()\n",
        "        "
      ],
      "metadata": {
        "colab": {
          "base_uri": "https://localhost:8080/",
          "height": 308
        },
        "id": "xg0BHuJNfpbx",
        "outputId": "f107a915-45bd-4b11-a58c-1b4775b65551"
      },
      "execution_count": null,
      "outputs": [
        {
          "output_type": "display_data",
          "data": {
            "text/plain": [
              "<Figure size 432x288 with 1 Axes>"
            ],
            "image/png": "[encoded data removed]"
          },
          "metadata": {
            "needs_background": "light"
          }
        }
      ]
    },
    {
      "cell_type": "markdown",
      "source": [
        "## QUESTION 3\n",
        "\n",
        "In this case we don't know how the host choose and so we have to parametrize that unknown. The discrimination between the two case only enters when the host has to make the choise between doors n. 2 and n. 3. We have to set the missing knowledge precisely at that point.\n",
        "* This means that we have to operate in the calculation of $\\mathcal{P}(H_3|I_1)$, using the parameter $k\\in[0,1]$, where $k=0$ when the host doesn't know where the car is and $k=1$ when the host knows perfectly where the car is. This translates into, assuming a linear behaviour of the unknown,\n",
        "\\begin{equation}\n",
        "\\begin{split}\n",
        "\\mathcal{P}(H_3|X_1)&=\\frac{1}{3}\\,\\bigl[\\mathcal{P}(H_3|C_1\\,and\\,X_1)+\\mathcal{P}(H_3|C_2\\,and\\,X_1)+\\mathcal{P}(H_3|C_3\\,and\\,X_1)\\bigr]\\\\\n",
        "&=\\frac{1}{3}\\Bigl[\\frac{1}{2}+\\frac{1+k}{2}+\\frac{1-k}{2}\\Bigr]=\\frac{1}{2}\\,.\n",
        "\\end{split}\n",
        "\\end{equation}\n",
        "As we can see, $\\mathcal{P}(H_3|X_1)$ doesn't care about this, because $\\mathcal{P}(H_3|C_2\\,and\\,X_1)+\\mathcal{P}(H_3|C_3\\,and\\,X_1)=1$, as we said in the first question.\n",
        "* Anyway this means a lot for $\\mathcal{P}(H_3|C_2\\,and\\,X_1)$, which now leads to\n",
        "\\begin{equation}\n",
        "\\mathcal{P}(H_3|C_2\\,and\\,X_1)=\\frac{1+k}{2}\\,.\n",
        "\\end{equation}\n",
        "\n",
        "This implies that the probability to win changing the door is\n",
        "\\begin{equation}\n",
        "\\mathcal{P}(C_2|H_3\\,and\\,X_1)=\\frac{\\mathcal{P}(C_2|X_1)\\,\\mathcal{P}(H_3|C_2\\,and\\,X_1)}{\\mathcal{P}(H_3|X_1)}=\\frac{1/3\\cdot{(1+k)/2}}{1/2}=\\frac{1+k}{3}\\,.\\end{equation}\n",
        "The probability to win not changing the door is instead invariant, since $\\mathcal{P}(H_3|C_1\\,and\\,X_1)=1/2$, unaffected by the uncertainty parameter k:\n",
        "\\begin{equation}\n",
        "\\mathcal{P}(C_1|H_3\\,and\\,X_1)=\\frac{\\mathcal{P}(C_1|I_1)\\,\\mathcal{P}(H_3|C_1\\,and\\,X_1)}{\\mathcal{P}(H_3|X_1)}=\\frac{1/3\\cdot1/2}{1/2}=\\frac{1}{3}.\n",
        "\\end{equation}\n",
        "Here too, the remaining probability goes in the probability of the car to be behind the door n. 3, or in other words in the probability that the host opens the door with the car behind.\n",
        "\n",
        "This is exactly equal to calculate the weighted mean between the blindfolded case and the case in which the host knows were the car is. Those weights are obviously dependent on k as a parameter:\n",
        "\\begin{equation}\n",
        "\\mathcal{P}(\"\\textit{winning  by  switching}\",\\;k) = k\\times 2/3 + (1-k)\\times 1/3\n",
        "\\end{equation}\n",
        "\n",
        "Here it's interesting to notice how does it changes this probability with k, as it is shown in the plot below"
      ],
      "metadata": {
        "id": "bSDtYYxAfsWC"
      }
    },
    {
      "cell_type": "code",
      "source": [
        "#game simulation\n",
        "\n",
        "def monty_hall (switch):\n",
        "    win_switch_counts = 0\n",
        "    win_no_switch_counts = 0\n",
        "    lose_switch_counts = 0\n",
        "    lose_no_switch_counts = 0\n",
        "    doors = [0,1,2]\n",
        "    n_doors = len(doors)\n",
        "    \n",
        "    \n",
        "    door_with_prize = random.randint(0, n_doors-1)\n",
        "    host = door_with_prize #because the host knows\n",
        "    player_pick = random.randint(0, n_doors -1)\n",
        "    original_player_pick = player_pick\n",
        "    opened_door = open_not_prize(host, n_doors, player_pick)\n",
        "        \n",
        "    if switch == True:\n",
        "        player_pick = switch_door(opened_door, n_doors, player_pick)\n",
        "        \n",
        "    if player_pick == host and switch == True: #the player wins if they switch\n",
        "        win_switch_counts +=1\n",
        "            \n",
        "    elif player_pick!= host and switch == True: #the player loses if they do not switch\n",
        "        lose_switch_counts+=1\n",
        "            \n",
        "    else:\n",
        "        print('boh')\n",
        "            \n",
        "    return win_switch_counts\n",
        "\n",
        "def monty_fall (switch):\n",
        "    win_switch_counts = 0\n",
        "    win_no_switch_counts = 0\n",
        "    lose_switch_counts = 0\n",
        "    lose_no_switch_counts = 0\n",
        "    doors = [0,1,2]\n",
        "    n_doors = len(doors)\n",
        "    \n",
        "    \n",
        "    door_with_prize = random.randint(0, n_doors-1)\n",
        "    player_pick = random.randint(0, n_doors -1)\n",
        "    host = random.randint(0, n_doors-1)\n",
        "        \n",
        "    while host == player_pick :\n",
        "        host = random.randint(0, n_doors-1)\n",
        "            \n",
        "        \n",
        "    original_player_pick = player_pick\n",
        "    opened_door = open_not_prize(host, n_doors, player_pick)\n",
        "        \n",
        "    if switch == True:\n",
        "        player_pick = switch_door(opened_door, n_doors, player_pick)\n",
        "        \n",
        "  \n",
        "    if player_pick == door_with_prize and switch == True: #the player wins if they switch\n",
        "        win_switch_counts +=1\n",
        "            \n",
        "    elif player_pick!= door_with_prize and switch == True: #the player loses if they do not switch\n",
        "        lose_switch_counts+=1         \n",
        "  \n",
        "    return win_switch_counts\n",
        "\n",
        "\n",
        "\n",
        "#this function creates and array of 0 and 1, what does it mean? \n",
        "#it means that for each event, the host knows or doesn't know\n",
        "#so what the k does is to create an array with a specific percentage of 0 and 1\n",
        "#as suggested by the k \n",
        "\n",
        "def monty_random(k):\n",
        "    hall_or_fall = random.uniform(0, 1)\n",
        "    \n",
        "    if hall_or_fall < k:\n",
        "        play = monty_hall(True)\n",
        "        \n",
        "    else:\n",
        "        play = monty_fall(True)\n",
        "        \n",
        "    return play\n",
        "\n",
        "#*****************************\n",
        "#LET'S PLAY A GAME, SHALL WE? >:)\n",
        "\n",
        "k = np.linspace(0,1, 100)\n",
        "N=10000\n",
        "play= np.zeros(N, float)\n",
        "count = np.zeros(len(k), float)\n",
        "\n",
        "for j in range(len(k)):\n",
        "    for i in range(N):\n",
        "        play[i] = monty_random(k[j])\n",
        "        if play[i] != 0:\n",
        "            count[j] +=1\n",
        "\n",
        "\n",
        "plt.plot(k, count/N, label='simulation')\n",
        "plt.plot(k, (2/3*(k)) + (1/3*(1-k)), label='expected behaviour')\n",
        "plt.title('Monty Hall Problem', fontsize=20)\n",
        "plt.xlabel('k',fontsize=18)\n",
        "plt.ylabel('Win Percentage (k)',fontsize=18)\n",
        "plt.legend()\n",
        "plt.show()\n"
      ],
      "metadata": {
        "colab": {
          "base_uri": "https://localhost:8080/",
          "height": 308
        },
        "id": "vJEx6JJ4HpLf",
        "outputId": "3b1e2e98-837f-40a5-b2c3-acb4519fb061"
      },
      "execution_count": null,
      "outputs": [
        {
          "output_type": "display_data",
          "data": {
            "text/plain": [
              "<Figure size 432x288 with 1 Axes>"
            ],
            "image/png": "[encoded data removed]"
          },
          "metadata": {
            "needs_background": "light"
          }
        }
      ]
    },
    {
      "cell_type": "code",
      "source": [],
      "metadata": {
        "id": "RVmA-kL67lwn"
      },
      "execution_count": null,
      "outputs": []
    }
  ]
}
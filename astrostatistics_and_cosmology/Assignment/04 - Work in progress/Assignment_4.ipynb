{
  "nbformat": 4,
  "nbformat_minor": 0,
  "metadata": {
    "colab": {
      "provenance": []
    },
    "kernelspec": {
      "name": "python3",
      "display_name": "Python 3"
    },
    "language_info": {
      "name": "python"
    }
  },
  "cells": [
    {
      "cell_type": "markdown",
      "source": [
        "# Assignment 4 - The Bias coin Reloaded\n",
        "Matteo Scialpi\n",
        "\n",
        "## Introduction\n",
        "**Suppose that we have a coin, and we would like to figure out what the probability is that it will flip up heads with frequency $f$. How should we estimate the bias $f$?**\n",
        "\n",
        "## Question 1\n",
        "\n",
        "**The Binomial distribution is a suitable likelihood function for this problem. Derive an estimator of the bias maximizing the likelihood function (Maximum Likelihood method).**\n",
        "\n",
        "Using the same notation from the toss coin that we did in the first part of the course, we can write the number of heads in $N$ total throws as $n_H$. This $n_H$ will represent our datas, while $f$ is the parameter we are interested in. Following the hint given about a Binomial distribution for the likelihood, it will be\n",
        "\\begin{equation}\n",
        "\\mathscr{L}(f)=\\mathcal{P}(n_H|f,N)=\\binom{N}{n_h}f^{n_H}(1-f)^{N-n_H}\\,.\n",
        "\\end{equation}\n",
        "Taking its natural logarithm, we have the log-likelihood, given by\n",
        "\\begin{equation}\n",
        "\\ln\\mathscr{L}(f)=\\ln{\\binom{N}{n_H}}+n_H\\,\\ln{f}+(N-n_H)\\,\\ln{(1-f)}\\,.\n",
        "\\end{equation}\n",
        "We want to search the value for $f$ that maximises the log-likelihood, value that maximises the \"linear\" likelihood, too. Let's calculate the first $f$ derivative for $\\mathscr{L}(f)$:\n",
        "\\begin{equation}\n",
        "\\frac{\\partial\\ln{\\mathscr{L}}}{\\partial f}=\\frac{n_H}{f}-\\frac{N-n_H}{1-f}=\\frac{n_H-Nf}{f(1-f)}\\,.\n",
        "\\end{equation}\n",
        "The derivative will be set to 0 because of the search for the $f$ maximum-likelihood value. This estimator for $f$ will be labelled as $\\hat{f}$. We have\n",
        "\\begin{equation}\n",
        "\\frac{\\partial\\ln{\\mathscr{L}}}{\\partial f}=0\\qquad\\implies\\qquad\\hat{f}=\\frac{n_H}{N}\\,,\n",
        "\\end{equation}\n",
        "as we expected it to be by the simple frequency definition. Being the expectation value for the binomial distribution (taking the random variable $x=\\{0,1\\}$)\n",
        "\\begin{equation}\n",
        "E[x]=Nf=n_H\\,,\n",
        "\\end{equation} \n",
        "we can say that we can easily relate $\\hat{f}$ to $E[x]$ as\n",
        "\\begin{equation}\n",
        "\\hat{f}=\\frac{E[x]}{N}\\,.\n",
        "\\end{equation}\n",
        "For what concerns instead the error bar for $\\hat{f}$, we have to calculate the second derivative with respect to $f$, strictly bound to the variance $\\sigma_f^2$. It reads\n",
        "\\begin{equation}\n",
        "\\frac{\\partial^2\\ln{\\mathscr{L}}}{\\partial f^2}=\\frac{\\partial}{\\partial f}\\biggl[\\frac{n_H-Nf}{f(1-f)}\\biggr]=-\\frac{Nf^2-2n_Hf+n_H}{f^2\\,(1-f)^2}\\,.\n",
        "\\end{equation}\n",
        "This second derivative is equal to\n",
        "\\begin{equation}\n",
        "\\frac{\\partial^2\\ln{\\mathscr{L}}}{\\partial f^2}=-\\frac{1}{\\sigma_f^2},\n",
        "\\end{equation}\n",
        "so we can write the errorbar for $f$ values\n",
        "\\begin{equation}\n",
        "\\sigma_f^2=\\frac{f^2\\,(1-f)^2}{Nf^2-2n_Hf+n_H}\\,.\n",
        "\\end{equation}\n",
        "In the end we can write the estimator for $f$ given by the maximum likelihood as\n",
        "\\begin{equation}\n",
        "f=\\hat{f}\\pm\\sigma_f=\\hat{f}\\pm\\frac{\\hat{f}\\,(1-\\hat{f})}{\\sqrt{N\\hat{f}^2-2n_H\\hat{f}+n_H}}\n",
        "\\end{equation}\n",
        "Substituting $\\hat{f}$ derived before, we can write\n",
        "\\begin{equation}\n",
        "\\sigma_f^2=\\frac{n_H}{N}\\pm\\frac{\\sqrt{n_H\\,(1-n_H/N)}}{N}\\,.\n",
        "\\end{equation}\n",
        "We can also see that, restoring $\\hat{f}$ in the expression, we have\n",
        "\\begin{equation}\n",
        "\\sigma_f^2=\\frac{n_H\\,(1-n_H/N)}{N^2}=\\frac{\\hat{f}\\,(1-\\hat{f})}{N}=\\frac{\\sigma^2}{N^2}\\,,\n",
        "\\end{equation}\n",
        "where $\\sigma^2$ is the variance for the binomial distribution.\n",
        "\n",
        "### Point A\n",
        "**Generate $N$=100 coin flips with an input bias $f$ of your choice. What is the estimated value of $f$ and error bars?**\n",
        "\n",
        "Manca l'errore con il Newton-Raphson. \\\n",
        "Riprovare i punti A e B prendendo una binomiale da un pacchetto (scipy?) e calcolando $f$ e $\\sigma_f$ in base alle relazioni con $E(x)$ e $\\sigma$.\n"
      ],
      "metadata": {
        "id": "b9ry5DfpoyiP"
      }
    },
    {
      "cell_type": "code",
      "source": [
        "import numpy as np\n",
        "import numpy.random as rnd\n",
        "import scipy.special as sp\n",
        "import matplotlib.pyplot as plt\n",
        "\n",
        "### FUNCTIONS' DEFINITION\n",
        "\n",
        "def like(f,N,n_H):\n",
        "  N=float(N)\n",
        "  coeff=sp.factorial(N)/(sp.factorial(n_H)*sp.factorial(N-n_H))\n",
        "  P=coeff*(f**n_H*(1.-f)**(N-n_H))\n",
        "  return P\n",
        "\n",
        "def loglike(f,N,n_H):\n",
        "  N=float(N)\n",
        "  coeff=sp.factorial(N)/(sp.factorial(n_H)*sp.factorial(N-n_H))\n",
        "  P=coeff*(f**n_H*(1.-f)**(N-n_H))\n",
        "  return np.log(P)\n",
        "\n",
        "def derloglike(f,N,n_H):\n",
        "  N=float(N)\n",
        "  dP=(n_H-N*f)/(f*(1.-f))\n",
        "  return dP\n",
        "\n",
        "def der2loglike(f,N,n_H):\n",
        "  N=float(N)\n",
        "  d2P=(-N*f*f+2.*n_H*f-n_H)/(f-f*f)**2.\n",
        "  return d2P\n",
        "\n",
        "def nwtrps(N,n_H):\n",
        "  guess=0.5\n",
        "  eps=1e-5\n",
        "  guessold=10.\n",
        "  while np.linalg.norm(guess-guessold)>eps:\n",
        "    guessold=np.copy(guess)\n",
        "    guess-=derloglike(guess,N,n_H)/der2loglike(guess,N,n_H)\n",
        "  return guess\n",
        "\n",
        "### PROBLEM SETTINGS AND THROWS\n",
        "N=100\n",
        "f_bias=0.3\n",
        "rnd.seed(1)\n",
        "flips=rnd.rand(N)\n",
        "flips=np.where(flips<=1.-f_bias,0,1)\n",
        "print(f'The coin is flipped {N} times with an intrinsic bias f = {f_bias}')\n",
        "print('')\n",
        "n_H=0\n",
        "for i in range(len(flips)):\n",
        "  if flips[i]==1:\n",
        "    n_H+=1\n",
        "n_H=float(n_H)\n",
        "\n",
        "### THEORETICAL CALCULATIONS\n",
        "f_theo=n_H/float(N)\n",
        "var_theo=f_theo*(1-f_theo)/float(N)\n",
        "print('')\n",
        "print('Predicted f from theoretical formulas = ',f_theo,'+/-',np.sqrt(var_theo))\n",
        "\n",
        "### NEWTON RAPHSON METHOD FOR LOG LIKELIHOOD\n",
        "x=np.arange(0.,1.,0.01)\n",
        "l=like(x,N,n_H)\n",
        "plt.plot(x,l)\n",
        "plt.show()\n",
        "\n",
        "ll=loglike(x,N,n_H)\n",
        "plt.plot(x,ll)\n",
        "plt.show()\n",
        "\n",
        "f_nr=nwtrps(N,n_H)\n",
        "print(f_nr)"
      ],
      "metadata": {
        "colab": {
          "base_uri": "https://localhost:8080/",
          "height": 634
        },
        "id": "SkYQdw-yoFut",
        "outputId": "74f952b7-fe0a-499f-8d21-8b94b95e55c2"
      },
      "execution_count": 1,
      "outputs": [
        {
          "output_type": "stream",
          "name": "stdout",
          "text": [
            "The coin is flipped 100 times with an intrinsic bias f = 0.3\n",
            "\n",
            "\n",
            "Predicted f from theoretical formulas =  0.26 +/- 0.04386342439892262\n"
          ]
        },
        {
          "output_type": "display_data",
          "data": {
            "text/plain": [
              "<Figure size 432x288 with 1 Axes>"
            ],
            "image/png": "[encoded data removed]"
          },
          "metadata": {
            "needs_background": "light"
          }
        },
        {
          "output_type": "stream",
          "name": "stderr",
          "text": [
            "<ipython-input-1-8abdfde70762>:18: RuntimeWarning: divide by zero encountered in log\n",
            "  return np.log(P)\n"
          ]
        },
        {
          "output_type": "display_data",
          "data": {
            "text/plain": [
              "<Figure size 432x288 with 1 Axes>"
            ],
            "image/png": "[encoded data removed]"
          },
          "metadata": {
            "needs_background": "light"
          }
        },
        {
          "output_type": "stream",
          "name": "stdout",
          "text": [
            "0.26\n"
          ]
        }
      ]
    },
    {
      "cell_type": "markdown",
      "source": [
        "### Point B\n",
        "**Given $N$=5 toss and 5 heads as outcome, what is the estimated value of $f$ and error bars?**\n",
        "\n",
        "Il Newton-Raphson esplode perché quando $f_{guess}$ raggiunge 1 la derivata diverge a causa del fattore $(1-f)$."
      ],
      "metadata": {
        "id": "WOb3IuEJRhHO"
      }
    },
    {
      "cell_type": "code",
      "source": [
        "### PROBLEM SETTINGS AND THROWS\n",
        "N=5\n",
        "flips=np.ones(N,int)\n",
        "print(flips)\n",
        "n_H=0\n",
        "for i in range(N):\n",
        "  if flips[i]==1:\n",
        "    n_H+=1\n",
        "n_H=float(n_H)\n",
        "\n",
        "f_theo=n_H/float(N)\n",
        "var_theo=f_theo*(1.-f_theo)/float(N)\n",
        "print('Predicted f from theoretical formulas = ',f_theo,'+/-',np.sqrt(var_theo))\n",
        "\n",
        "l=like(x,N,n_H)\n",
        "plt.plot(x,l)\n",
        "plt.show()\n",
        "\n",
        "#f_nr=nwtrps(N,n_H)\n",
        "#print(f_nr)\n"
      ],
      "metadata": {
        "colab": {
          "base_uri": "https://localhost:8080/",
          "height": 300
        },
        "id": "9ByrUIraSY1l",
        "outputId": "04248f9c-9017-4dfc-c933-a81e7a6c9db8"
      },
      "execution_count": 2,
      "outputs": [
        {
          "output_type": "stream",
          "name": "stdout",
          "text": [
            "[1 1 1 1 1]\n",
            "Predicted f from theoretical formulas =  1.0 +/- 0.0\n"
          ]
        },
        {
          "output_type": "display_data",
          "data": {
            "text/plain": [
              "<Figure size 432x288 with 1 Axes>"
            ],
            "image/png": "[encoded data removed]"
          },
          "metadata": {
            "needs_background": "light"
          }
        }
      ]
    },
    {
      "cell_type": "markdown",
      "source": [
        "### Point C\n",
        "**Given the condition in *Point A* and then in *Point B*, try hypothesis testing with $H_0$ (\"the coin is not biased\") vs $H_1$ (\"the coin is biased\").**"
      ],
      "metadata": {
        "id": "-93_QcWGZjly"
      }
    },
    {
      "cell_type": "code",
      "source": [],
      "metadata": {
        "id": "udtJAu3gajVG"
      },
      "execution_count": 2,
      "outputs": []
    },
    {
      "cell_type": "markdown",
      "source": [
        "## Question 2\n",
        "**The Binomial distribution is a suitable likelihood function for this problem. Use as \"conjugate prior\" the Beta Distribution. Derive an estimator of the bias maximizing the posterior function (Maximum A Posteriori method).**\n",
        "\n",
        "### Point A\n",
        "**Generate $N$=100 coin flips with an input bias $f$ of your choice. What is the estimated value of $f$ and error bars?**"
      ],
      "metadata": {
        "id": "GfQWqvOjc4CS"
      }
    },
    {
      "cell_type": "code",
      "source": [],
      "metadata": {
        "id": "3ZsyQJzFc4Ws"
      },
      "execution_count": 2,
      "outputs": []
    },
    {
      "cell_type": "markdown",
      "source": [
        "### Point B\n",
        "**Given $N$=5 toss and 5 heads as outcome what is the estimated value of f and error bars?**"
      ],
      "metadata": {
        "id": "g6QQSgd0c8BP"
      }
    },
    {
      "cell_type": "code",
      "source": [],
      "metadata": {
        "id": "KUI-MscDc8Lv"
      },
      "execution_count": 2,
      "outputs": []
    },
    {
      "cell_type": "markdown",
      "source": [
        "### Point C\n",
        "**Given the condition in *Point A* and then in *Point B*, try hypothesis testing with $H_0$ (\"the coin is not biased\") vs $H_1$ (\"the coin is biased\").**"
      ],
      "metadata": {
        "id": "mbje2f99c8V3"
      }
    },
    {
      "cell_type": "code",
      "source": [],
      "metadata": {
        "id": "8Rx-RB54c8gB"
      },
      "execution_count": 2,
      "outputs": []
    },
    {
      "cell_type": "markdown",
      "source": [
        "### Point D\n",
        "**What happens to the MAP estimator when $N\\rightarrow+\\infty$?**"
      ],
      "metadata": {
        "id": "eRlXEOtLc8pW"
      }
    },
    {
      "cell_type": "code",
      "source": [],
      "metadata": {
        "id": "JvUQogVac8yq"
      },
      "execution_count": 2,
      "outputs": []
    },
    {
      "cell_type": "markdown",
      "source": [
        "## Question 3\n",
        "**Use Cobaya (or your preferred MCMC code) to infer the bias parameter, error bars and model testing**"
      ],
      "metadata": {
        "id": "0Pqd7-M0c9oG"
      }
    },
    {
      "cell_type": "code",
      "source": [],
      "metadata": {
        "id": "5pZpkOGvc-uv"
      },
      "execution_count": 2,
      "outputs": []
    },
    {
      "cell_type": "markdown",
      "source": [
        "## Question 4\n",
        "\n",
        "|Scientist|$x_n$|\n",
        "|:-:|:-:|\n",
        "|A|-27.020|\n",
        "|B|3.570|\n",
        "|C|8.191|\n",
        "|D|9.898|\n",
        "|E|9.603|\n",
        "|F|9.945|\n",
        "|G|10.056|\n",
        "\n"
      ],
      "metadata": {
        "id": "WzCUHnnJc_Ed"
      }
    },
    {
      "cell_type": "code",
      "source": [],
      "metadata": {
        "id": "mnK9vS7Nc_nf"
      },
      "execution_count": 2,
      "outputs": []
    }
  ]
}